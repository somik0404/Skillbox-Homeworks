{
 "cells": [
  {
   "cell_type": "markdown",
   "metadata": {
    "colab_type": "text",
    "id": "RbR5OTe50Za4"
   },
   "source": [
    "# Классы\n",
    "## Домашнее задание"
   ]
  },
  {
   "cell_type": "markdown",
   "metadata": {
    "colab_type": "text",
    "id": "Xh_DBCdu0Za5"
   },
   "source": [
    "### Вопросы по лекциям\n",
    "\n",
    "#### 1.\n",
    "\n",
    "Напишите название функции, которая является конструктором класса."
   ]
  },
  {
   "cell_type": "markdown",
   "metadata": {
    "colab_type": "text",
    "id": "8-Tj4AMg0Za6"
   },
   "source": [
    "**Ответ:**"
   ]
  },
  {
   "cell_type": "markdown",
   "metadata": {
    "colab_type": "text",
    "id": "lf14yx330Za7"
   },
   "source": [
    "#### 2.\n",
    "\n",
    "На что указывает переменная `self`?"
   ]
  },
  {
   "cell_type": "markdown",
   "metadata": {
    "colab_type": "text",
    "id": "wI-0FWlF0Za8"
   },
   "source": [
    "**Ответ:**"
   ]
  },
  {
   "cell_type": "markdown",
   "metadata": {
    "colab_type": "text",
    "id": "j_8_O_nl0Za8"
   },
   "source": [
    "#### 3.\n",
    "С помощью какой функции можно проверить, что некая строка является именем одного из атрибутов объекта?"
   ]
  },
  {
   "cell_type": "markdown",
   "metadata": {
    "colab_type": "text",
    "id": "5h8ASTrV0Za9"
   },
   "source": [
    "**Ответ:**"
   ]
  },
  {
   "cell_type": "markdown",
   "metadata": {
    "colab_type": "text",
    "id": "G104VWgj0Za-"
   },
   "source": [
    "#### 4.\n",
    "Когда вызывается метод `__del__`? (относительно события удаления объекта)"
   ]
  },
  {
   "cell_type": "markdown",
   "metadata": {
    "colab_type": "text",
    "id": "Ukzoyxkn0Za-"
   },
   "source": [
    "**Ответ:**"
   ]
  },
  {
   "cell_type": "markdown",
   "metadata": {
    "colab_type": "text",
    "id": "MkF-HyBM0ZbA"
   },
   "source": [
    "#### 5.\n",
    "Верно ли, что атрибут класса перекрывает атрибут объекта?"
   ]
  },
  {
   "cell_type": "markdown",
   "metadata": {
    "colab_type": "text",
    "id": "o7B52kVt0ZbC"
   },
   "source": [
    "**Ответ:**"
   ]
  },
  {
   "cell_type": "markdown",
   "metadata": {
    "colab_type": "text",
    "id": "kSwZWV2B0ZbC"
   },
   "source": [
    "#### 6.\n",
    "Можно ли атрибуты базового класса вызывать в дочернем классе? Если да, то напишите, нет ли исключений?"
   ]
  },
  {
   "cell_type": "markdown",
   "metadata": {
    "colab_type": "text",
    "id": "6i74Koih0ZbE"
   },
   "source": [
    "**Ответ:**"
   ]
  },
  {
   "cell_type": "markdown",
   "metadata": {
    "colab_type": "text",
    "id": "tl1St2O20ZbE"
   },
   "source": [
    "#### 7.\n",
    "Объясните своими словами для чего нужен метод `super`."
   ]
  },
  {
   "cell_type": "markdown",
   "metadata": {
    "colab_type": "text",
    "id": "rg3u1PoY0ZbF"
   },
   "source": [
    "**Ответ:**"
   ]
  },
  {
   "cell_type": "markdown",
   "metadata": {
    "colab_type": "text",
    "id": "5AiJn8ut0ZbG"
   },
   "source": [
    "### Практика\n",
    "\n",
    "1. Напишите класс `Fraction` для работы с дробями. Пусть дробь в нашем классе предстает в виде `числитель/знаменатель`. Дробное число должно создаваться по запросу `Fraction(a, b)`, где `a` – это числитель, а `b` – знаменатель дроби. \n",
    "2. Добавьте возможность сложения (сложения через оператор сложения) для дроби. Предполагается, что операция сложения может проводиться как только между дробями, так и между дробью и целым числом. Результат операции должен быть представлен в виде дроби.\n",
    "3. Добавьте возможность взятия разности (вычитания через оператор вычитания) для дробей. Предполагается, что операция вычитания может проводиться как только для двух дробей, так и для дроби и целого числа. Результат операции должен быть представлен в виде дроби.\n",
    "4. Добавьте возможность умножения (умножения через оператор умножения) для дробей. Предполагается, что операция умножения может проводиться как только для двух дробей, так и для дроби и целого числа. Результат операции должен быть представлен в виде дроби.\n",
    "5. Добавьте возможность приведения дроби к целому числу через стандартную функцию `int()`.\n",
    "6. Добавьте возможность приведения дроби к числу с плавающей точкой через стандартную функцию `float()`.\n",
    "7. Создайте дочерний класс `OperationsOnFraction` и добавьте туда собственные методы `getint` и `getfloat`, которые будут возвращать целую часть дроби и представление дроби в виде числа с плавающей точкой соответственно. \n",
    " "
   ]
  },
  {
   "cell_type": "markdown",
   "metadata": {
    "colab": {},
    "colab_type": "code",
    "id": "ru3BJ52J0ZbG"
   },
   "source": [
    "1. _ _ init _ _\n",
    "2. на само название класса\n",
    "3. hasattr, getattr\n",
    "4. в конце обю\n",
    "5. перед уничтожением объекта\n",
    "6. можно, но только если они не начинаются с двух нижних подчёркиваний\n",
    "7. он позволяет вызывать переопределённый метод родительского класса в дочернем"
   ]
  },
  {
   "cell_type": "code",
   "execution_count": null,
   "metadata": {},
   "outputs": [],
   "source": [
    "# будем возвращать массив из двух элементов [a, b] - a (числитель), b (знаменатель)\n",
    "\n",
    "\n",
    "from math import gcd\n",
    "\n",
    "\n",
    "class Fraction: # определяем класс Fraction\n",
    "\n",
    "    def __init__(self, nominator, denominator): # задаём параметры дроби (её числитель и знаменатель)\n",
    "        self.nominator = nominator\n",
    "        self.denominator = denominator\n",
    "\n",
    "    def __str__(self):\n",
    "        return \"Дробь - числитель {} знаменатель {}\".format(self.nominator, self.denominator)\n",
    "\n",
    "    def __add__(self, other): # сложение дробей\n",
    "        if isinstance(other, Fraction):\n",
    "            big_nominator = self.nominator * other.denominator + self.denominator * other.nominator\n",
    "            big_denominator = self.denominator * other.denominator\n",
    "            res = gcd(big_denominator, big_nominator)\n",
    "            big_denominator = int(big_denominator / res)\n",
    "            big_nominator = int(big_nominator / res)\n",
    "            return Fraction(big_nominator, big_denominator)\n",
    "        else:\n",
    "            other = Fraction(other, 1)\n",
    "            return self + other\n",
    "\n",
    "    def __sub__(self, other): # вычетание дробей\n",
    "        if isinstance(other, Fraction):\n",
    "            big_nominator = self.nominator * other.denominator - self.nominator * other.denominator\n",
    "            big_denominator = self.denominator * other.denominator\n",
    "            res = gcd(big_denominator, big_nominator)\n",
    "            big_denominator = int(big_denominator / res)\n",
    "            big_nominator = int(big_nominator / res)\n",
    "            return Fraction(big_nominator, big_denominator)\n",
    "        else:\n",
    "            other = Fraction(other, 1)\n",
    "            return self - other\n",
    "\n",
    "    def __mul__(self, other): # умножение дробей\n",
    "        if isinstance(other, Fraction):\n",
    "            big_nominator = self.nominator *  other.nominator\n",
    "            big_denominator = self.denominator * other.denominator\n",
    "            res = gcd(big_denominator, big_nominator)\n",
    "            big_denominator = int(big_denominator / res)\n",
    "            big_nominator = int(big_nominator / res)\n",
    "            return Fraction(big_nominator, big_denominator)\n",
    "        else:\n",
    "            other = Fraction(other, 1)\n",
    "            return self * other\n",
    "\n",
    "    def __truediv__(self, other): # деление дробей\n",
    "        if isinstance(other, Fraction):\n",
    "            big_nominator = self.nominator *  other.denominator\n",
    "            big_denominator = self.denominator * other.nominator\n",
    "            res = gcd(big_denominator, big_nominator)\n",
    "            big_denominator = int(big_denominator / res)\n",
    "            big_nominator = int(big_nominator / res)\n",
    "            return Fraction(big_nominator, big_denominator)\n",
    "        else:\n",
    "            other = Fraction(other, 1)\n",
    "            return self / other\n",
    "\n",
    "    def __int__(self): # взятие целой части\n",
    "        res = self.nominator // self.denominator\n",
    "        return res\n",
    "\n",
    "    def __float__(self): # представление в виде float-дроби\n",
    "        res = self.nominator / self.denominator\n",
    "        return res\n",
    "\n",
    "\n",
    "class OperationsOnFraction(Fraction):\n",
    "\n",
    "    def getint(self):\n",
    "        super().__int__()\n",
    "\n",
    "    def getfloat(self):\n",
    "        super().__float__()\n",
    "\n",
    "# пример\n",
    "# введём парамеры дробей\n",
    "fraction_one_nominator = int(input(\"Веедите числитель первой дроби: \"))\n",
    "fraction_one_denominator = int(input(\"Веедите знаменатель первой дроби: \"))\n",
    "fraction_two_nominator = int(input(\"Веедите числитель второй дроби: \"))\n",
    "fraction_two_denominator = int(input(\"Веедите знаменатель второй дроби: \"))\n",
    "a = Fraction(fraction_one_nominator, fraction_one_denominator)\n",
    "b = Fraction(fraction_two_nominator, fraction_two_denominator)\n",
    "\n",
    "a + b\n",
    "a - b\n",
    "a * b\n",
    "a / b\n",
    "\n",
    "c = Fraction(11, 3)\n",
    "int(c)\n",
    "float(c)"
   ]
  }
 ],
 "metadata": {
  "colab": {
   "collapsed_sections": [],
   "name": "jun_anl_class.ipynb",
   "provenance": []
  },
  "kernelspec": {
   "display_name": "Python 3",
   "language": "python",
   "name": "python3"
  },
  "language_info": {
   "codemirror_mode": {
    "name": "ipython",
    "version": 3
   },
   "file_extension": ".py",
   "mimetype": "text/x-python",
   "name": "python",
   "nbconvert_exporter": "python",
   "pygments_lexer": "ipython3",
   "version": "3.8.3"
  }
 },
 "nbformat": 4,
 "nbformat_minor": 1
}
